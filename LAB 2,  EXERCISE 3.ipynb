{
 "cells": [
  {
   "cell_type": "markdown",
   "metadata": {},
   "source": [
    "# LAB 2\n",
    "\n",
    "## Unigrams, Bigrams, and Trigrams in Naive Bayes Classifiers ##\n",
    "\n",
    "\n",
    "3. Use the data in Tables 13.1  and 13.10  from [1] and the Naive Bayes for Spam Detection from IAML Edimburg with the N Lidell code"
   ]
  },
  {
   "cell_type": "code",
   "execution_count": 1,
   "metadata": {},
   "outputs": [],
   "source": [
    "import pandas as pd\n",
    "import numpy as np\n",
    "from sklearn.model_selection import train_test_split"
   ]
  },
  {
   "cell_type": "code",
   "execution_count": 2,
   "metadata": {},
   "outputs": [
    {
     "name": "stdout",
     "output_type": "stream",
     "text": [
      "*****TABLE 13.10*****\n",
      "[[1 'Chinese Beijing Chinese']\n",
      " [1 'Chinese Chinese Shanghai']\n",
      " [1 'Chinese Macao']\n",
      " [0 'Tokyo Japan Chinese']\n",
      " [1 'Chinese Chinese Chinese Tokyo Japan']]\n",
      "*****TABLE 13.10*****\n",
      "[[1 'Taipei Taiwan']\n",
      " [1 'Macao Taiwan Shanghai']\n",
      " [0 'Japan Sapporo']\n",
      " [0 'Sapporo Osaka Taiwan']\n",
      " [0 'Taiwan Taiwan Sapporo']]\n",
      "*****TABLE IAM*****\n",
      "[[1 'send us your password']\n",
      " [0 'send us your review']\n",
      " [0 'review your password']\n",
      " [1 'send us']\n",
      " [1 'send us your password']\n",
      " [1 'send us your account']\n",
      " [0 'review us now']]\n"
     ]
    }
   ],
   "source": [
    "#Reading TABLE 13.1\n",
    "df = pd.read_csv('./Tabla131.csv', usecols=[0,1], encoding='latin-1')\n",
    "df.columns = ['label','body']\n",
    "# label spam as 1, not spam as 0\n",
    "df['label'] = df['label'].replace([\"no\",\"yes\"],[0,1])\n",
    "data1 = df.values\n",
    "df.head()\n",
    "print(\"*****TABLE 13.10*****\")\n",
    "print(data1)\n",
    "\n",
    "#Reading TABLE 13.10\n",
    "df= pd.read_csv('./Tabla1310.csv', usecols=[0,1], encoding='latin-1')\n",
    "df.columns = ['label','body']\n",
    "#label spam as 1, not spam as 0\n",
    "df['label'] = df['label'].replace([\"no\",\"yes\"],[0,1])\n",
    "data10 = df.values\n",
    "print(\"*****TABLE 13.10*****\")\n",
    "print(data10)\n",
    "\n",
    "#Reading TABLE IAM\n",
    "df= pd.read_csv('./IAM.csv', usecols=[0,1], encoding='latin-1')\n",
    "df.columns = ['label','body']\n",
    "#label spam as 1, not spam as 0\n",
    "df['label'] = df['label'].replace([\"ham\",\"spam\"],[0,1])\n",
    "data2 = df.values\n",
    "print(\"*****TABLE IAM*****\")\n",
    "print(data2)"
   ]
  },
  {
   "cell_type": "code",
   "execution_count": 3,
   "metadata": {},
   "outputs": [],
   "source": [
    "class ngrams_bayes():\n",
    "    \n",
    "    def __init__(self, data, n=2, split=0.8):\n",
    "        \n",
    "        # split into training and testing data\n",
    "        self.train_data, self.test_data = train_test_split(data,\n",
    "                                                          train_size=split, shuffle=False) \n",
    "        # convert into n grams\n",
    "        self.train_data = [[item[0], self.ngrams(n, item[1])] for item in self.train_data]\n",
    "        self.test_data = [[item[0], self.ngrams(n, item[1])] for item in self.test_data]\n",
    "    \n",
    "        \n",
    "        # count unique n grams in training data\n",
    "        flattened = [gram for message in self.train_data for gram in message[1]]\n",
    "        self.unique = len(set(flattened))\n",
    "        \n",
    "        # init dicts\n",
    "        self.trainPositive = {}\n",
    "        self.trainNegative = {}\n",
    "        # counters\n",
    "        self.posGramCount = 0\n",
    "        self.negGramCount = 0\n",
    "        self.spamCount = 0\n",
    "        # priors\n",
    "        self.pA = 0\n",
    "        self.pNotA = 0\n",
    "        \n",
    "        \n",
    "    def ngrams(self, n, text):\n",
    "        text = text.split(' ')\n",
    "        grams = []\n",
    "        for i in range(len(text)-n+1):\n",
    "            gram = ' '.join(text[i:i+n])\n",
    "            grams.append(gram)\n",
    "        return grams \n",
    "    \n",
    "    def train(self):\n",
    "        \n",
    "        for item in self.train_data:\n",
    "            label = item[0]\n",
    "            grams = item[1]\n",
    "            if label == 1:\n",
    "                self.spamCount += 1   \n",
    "            for gram in grams:\n",
    "                if label == 1:\n",
    "                    self.trainPositive[gram] = self.trainPositive.get(gram, 0) + 1\n",
    "                    self.posGramCount += 1\n",
    "                else:\n",
    "                    self.trainNegative[gram] = self.trainNegative.get(gram, 0) + 1\n",
    "                    self.negGramCount += 1\n",
    "                    \n",
    "        #probabilidad de A Y DE A COMPLEMENTO             \n",
    "        self.pA = self.spamCount/float(len(self.train_data))\n",
    "        self.pNotA = 1.0 - self.pA\n",
    "         \n",
    "    def classify(self, text, alpha=1.0):\n",
    "        \n",
    "        self.alpha = alpha\n",
    "        isSpam = self.pA * self.conditionalText(text, 1)\n",
    "        notSpam = self.pNotA * self.conditionalText(text, 0)\n",
    "        print(\"is spam probability: \" + str(isSpam))\n",
    "        print(\"not spam probability: \" + str(notSpam))\n",
    "        if (isSpam > notSpam):\n",
    "            return 1\n",
    "        else:\n",
    "            return 0\n",
    "        \n",
    "    def conditionalText(self, grams, label):\n",
    "        result = 1.0\n",
    "        for ngram in grams:\n",
    "            result *= self.conditionalNgram(ngram, label)\n",
    "        return result\n",
    "    \n",
    "    def conditionalNgram(self, ngram, label):\n",
    "        alpha = self.alpha\n",
    "        if label == 1:\n",
    "            return ((self.trainPositive.get(ngram,0)+alpha) /\n",
    "                    float(self.posGramCount+alpha*self.unique))\n",
    "        else:\n",
    "            return ((self.trainNegative.get(ngram,0)+alpha) /\n",
    "                    float(self.negGramCount+alpha*self.unique))\n",
    "            \n",
    "    def evaluate_test_data(self):\n",
    "        results = []\n",
    "        for test in self.test_data:\n",
    "            label = test[0]\n",
    "            text = test[1]\n",
    "            ruling = self.classify(text)\n",
    "            if ruling == label:\n",
    "                results.append(1) \n",
    "            else:\n",
    "                results.append(0) \n",
    "        \n",
    "        \n",
    "        print(\"Evaluated {} test cases. {:.2f}% Accuracy\".format(len(results), 100.0*sum(results)/float(len(results))))\n",
    "        return sum(results)/float(len(results))"
   ]
  },
  {
   "cell_type": "code",
   "execution_count": 8,
   "metadata": {},
   "outputs": [
    {
     "name": "stdout",
     "output_type": "stream",
     "text": [
      "***The test set for the Table 13.1 is:***\n",
      "[[1, ['Chinese', 'Chinese', 'Chinese', 'Tokyo', 'Japan']]]\n",
      "***The test set for the Table 13.10 is:***\n",
      "[[0, ['Taiwan', 'Taiwan', 'Sapporo']]]\n",
      "***The test set for IAM is:***\n",
      "[[0, ['review us', 'us now']]]\n"
     ]
    }
   ],
   "source": [
    "#UNIGRAMS FOR THE DATA\n",
    "import warnings\n",
    "warnings.filterwarnings(\"ignore\")\n",
    "unigram_bayes1 = ngrams_bayes(data1,1)\n",
    "unigram_bayes10 = ngrams_bayes(data10,1)\n",
    "unigram_bayes2 = ngrams_bayes(data2,split=0.9)\n",
    "unigram_bayes1.train()\n",
    "unigram_bayes10.train()\n",
    "unigram_bayes2.train()\n",
    "\n",
    "print(\"***The test set for the Table 13.1 is:***\")\n",
    "print(unigram_bayes1.test_data)\n",
    "print(\"***The test set for the Table 13.10 is:***\")\n",
    "print(unigram_bayes10.test_data)\n",
    "print(\"***The test set for IAM is:***\")\n",
    "print(unigram_bayes2.test_data)"
   ]
  },
  {
   "cell_type": "code",
   "execution_count": 9,
   "metadata": {},
   "outputs": [
    {
     "name": "stdout",
     "output_type": "stream",
     "text": [
      "*****RESULTS FOR THE TABLE 13.1*****\n",
      "is spam probability: 0.00030121377997263036\n",
      "not spam probability: 0.00013548070246744226\n",
      "Evaluated 1 test cases. 100.00% Accuracy\n",
      "*****RESULTS FOR THE TABLE 13.10*****\n",
      "is spam probability: 0.0026041666666666665\n",
      "not spam probability: 0.003472222222222222\n",
      "Evaluated 1 test cases. 100.00% Accuracy\n",
      "*****RESULTS FOR IAM*****\n",
      "is spam probability: 0.0026041666666666665\n",
      "not spam probability: 0.002754820936639119\n",
      "Evaluated 1 test cases. 100.00% Accuracy\n"
     ]
    },
    {
     "data": {
      "text/plain": [
       "1.0"
      ]
     },
     "execution_count": 9,
     "metadata": {},
     "output_type": "execute_result"
    }
   ],
   "source": [
    "print(\"*****RESULTS FOR THE TABLE 13.1*****\")\n",
    "unigram_bayes1.evaluate_test_data()\n",
    "print(\"*****RESULTS FOR THE TABLE 13.10*****\")\n",
    "unigram_bayes10.evaluate_test_data()\n",
    "print(\"*****RESULTS FOR IAM*****\")\n",
    "unigram_bayes2.evaluate_test_data()"
   ]
  },
  {
   "cell_type": "code",
   "execution_count": 10,
   "metadata": {},
   "outputs": [
    {
     "name": "stdout",
     "output_type": "stream",
     "text": [
      "***********RESULTS FOR THE TABLE 13.1***********\n",
      "<__main__.ngrams_bayes object at 0x116859eb8>\n",
      "is spam probability: 0.00014467592592592592\n",
      "not spam probability: 7.620789513793628e-05\n",
      "Evaluated 1 test cases. 100.00% Accuracy\n",
      "***********RESULTS FOR THE TABLE 13.10***********\n",
      "<__main__.ngrams_bayes object at 0x116859f28>\n",
      "is spam probability: 0.006172839506172839\n",
      "not spam probability: 0.006172839506172839\n",
      "Evaluated 1 test cases. 100.00% Accuracy\n",
      "***********RESULTS FOR IAM***********\n",
      "<__main__.ngrams_bayes object at 0x116859ef0>\n",
      "is spam probability: 0.004166666666666667\n",
      "not spam probability: 0.0016000000000000005\n",
      "is spam probability: 0.004166666666666667\n",
      "not spam probability: 0.004000000000000001\n",
      "Evaluated 2 test cases. 50.00% Accuracy\n"
     ]
    },
    {
     "data": {
      "text/plain": [
       "0.5"
      ]
     },
     "execution_count": 10,
     "metadata": {},
     "output_type": "execute_result"
    }
   ],
   "source": [
    "#Bigrams tabla 13.1 \n",
    "print(\"***********RESULTS FOR THE TABLE 13.1***********\")\n",
    "bigram_sms1= ngrams_bayes(data1,2) \n",
    "print(bigram_sms1)\n",
    "bigram_sms1.train()\n",
    "bigram_sms1.evaluate_test_data()\n",
    "#Bigrams tabla 13.10\n",
    "print(\"***********RESULTS FOR THE TABLE 13.10***********\")\n",
    "bigram_sms10= ngrams_bayes(data10,2) \n",
    "print(bigram_sms10)\n",
    "bigram_sms10.train()\n",
    "bigram_sms10.evaluate_test_data()\n",
    "\n",
    "#Bigrams tabla IAM\n",
    "print(\"***********RESULTS FOR IAM***********\")\n",
    "bigram_sms2= ngrams_bayes(data2,2) \n",
    "print(bigram_sms2)\n",
    "bigram_sms2.train()\n",
    "bigram_sms2.evaluate_test_data()"
   ]
  },
  {
   "cell_type": "code",
   "execution_count": 11,
   "metadata": {},
   "outputs": [
    {
     "name": "stdout",
     "output_type": "stream",
     "text": [
      "***********RESULTS FOR THE TABLE 13.1***********\n",
      "is spam probability: 0.006000000000000002\n",
      "not spam probability: 0.00390625\n",
      "Evaluated 1 test cases. 100.00% Accuracy\n",
      "***********RESULTS FOR THE TABLE 13.10***********\n",
      "is spam probability: 0.16666666666666666\n",
      "not spam probability: 0.16666666666666666\n",
      "Evaluated 1 test cases. 100.00% Accuracy\n",
      "***********RESULTS FOR IAM***********\n",
      "is spam probability: 0.028124999999999997\n",
      "not spam probability: 0.016326530612244896\n",
      "is spam probability: 0.075\n",
      "not spam probability: 0.05714285714285714\n",
      "Evaluated 2 test cases. 50.00% Accuracy\n"
     ]
    },
    {
     "data": {
      "text/plain": [
       "0.5"
      ]
     },
     "execution_count": 11,
     "metadata": {},
     "output_type": "execute_result"
    }
   ],
   "source": [
    "#Trigrams table 13.1\n",
    "print(\"***********RESULTS FOR THE TABLE 13.1***********\")\n",
    "trigram_sms1 = ngrams_bayes(data1,3) \n",
    "trigram_sms1.train()\n",
    "trigram_sms1.evaluate_test_data()\n",
    "\n",
    "#Trigrams table 13.10\n",
    "print(\"***********RESULTS FOR THE TABLE 13.10***********\")\n",
    "trigram_sms10 = ngrams_bayes(data10,3) \n",
    "trigram_sms10.train()\n",
    "trigram_sms10.evaluate_test_data()\n",
    "\n",
    "#Trigrams tabla IAM\n",
    "print(\"***********RESULTS FOR IAM***********\")\n",
    "trigram_sms2 = ngrams_bayes(data2,3) \n",
    "trigram_sms2.train()\n",
    "trigram_sms2.evaluate_test_data()"
   ]
  }
 ],
 "metadata": {
  "kernelspec": {
   "display_name": "Python 3",
   "language": "python",
   "name": "python3"
  },
  "language_info": {
   "codemirror_mode": {
    "name": "ipython",
    "version": 3
   },
   "file_extension": ".py",
   "mimetype": "text/x-python",
   "name": "python",
   "nbconvert_exporter": "python",
   "pygments_lexer": "ipython3",
   "version": "3.5.5"
  }
 },
 "nbformat": 4,
 "nbformat_minor": 2
}
